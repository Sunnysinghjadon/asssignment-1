{
 "cells": [
  {
   "cell_type": "markdown",
   "id": "907dcfb4-b8cd-43fa-8e41-0210c2e0c13d",
   "metadata": {
    "tags": []
   },
   "source": [
    "#  Explain with an example each when to use a for loop and a while loop"
   ]
  },
  {
   "cell_type": "code",
   "execution_count": 6,
   "id": "7a5bc9ad-309f-479f-8723-f8a908c79c04",
   "metadata": {},
   "outputs": [
    {
     "name": "stdout",
     "output_type": "stream",
     "text": [
      "0\n",
      "1\n",
      "2\n",
      "3\n",
      "4\n",
      "5\n",
      "6\n",
      "7\n"
     ]
    }
   ],
   "source": [
    "#For Loop:\n",
    "#A for loop is typically used when you know the number of iterations in advance or when you want to iterate over a collection, such as a list or an array, in a controlled manner. Here's an example of using a for loop to iterate a fixed number of times:\n",
    "#example\n",
    "\n",
    "for i in range(8):\n",
    "    print(i)"
   ]
  },
  {
   "cell_type": "code",
   "execution_count": 7,
   "id": "d4769b35-a933-44ce-9c09-7443274e73dc",
   "metadata": {},
   "outputs": [
    {
     "name": "stdout",
     "output_type": "stream",
     "text": [
      "count: 0\n",
      "count: 1\n",
      "count: 2\n",
      "count: 3\n"
     ]
    }
   ],
   "source": [
    "#While Loop:\n",
    "#A while loop is useful when you want to repeat a block of code until a specific condition becomes false. It's commonly used when the number of iterations is not known in advance or when you want to create a loop with a flexible exit condition\n",
    "#example\n",
    "\n",
    "count = 0 \n",
    "while count < 4 :\n",
    "    print(\"count:\" , count)\n",
    "    count +=1"
   ]
  },
  {
   "cell_type": "markdown",
   "id": "e3fb3348-d23f-4922-b83d-4422709768f7",
   "metadata": {},
   "source": [
    "# Q.2  Write a python program to print the sum and product of the first 10 natural numbers using for and while loop."
   ]
  },
  {
   "cell_type": "code",
   "execution_count": 9,
   "id": "e67f1084-29eb-4e48-a759-120fd8e8672b",
   "metadata": {},
   "outputs": [
    {
     "name": "stdout",
     "output_type": "stream",
     "text": [
      "Sum: 45\n",
      "Product: 362880\n"
     ]
    }
   ],
   "source": [
    "# Calculate sum and product using a for loop\n",
    "numbers = range(1, 10)\n",
    "sum_result = 0\n",
    "product_result = 1\n",
    "\n",
    "for num in numbers:\n",
    "    sum_result += num\n",
    "    product_result *= num\n",
    "\n",
    "print(\"Sum:\", sum_result)\n",
    "print(\"Product:\", product_result)\n"
   ]
  },
  {
   "cell_type": "code",
   "execution_count": 10,
   "id": "d6d89626-aa31-4fbc-b41b-46d27f85fe65",
   "metadata": {},
   "outputs": [
    {
     "name": "stdout",
     "output_type": "stream",
     "text": [
      "Sum: 55\n",
      "Product: 3628800\n"
     ]
    }
   ],
   "source": [
    "# Calculate sum and product using a while loop\n",
    "count = 1\n",
    "sum_result = 0\n",
    "product_result = 1\n",
    "\n",
    "while count <= 10:\n",
    "    sum_result += count\n",
    "    product_result *= count\n",
    "    count += 1\n",
    "\n",
    "print(\"Sum:\", sum_result)\n",
    "print(\"Product:\", product_result)\n"
   ]
  },
  {
   "cell_type": "markdown",
   "id": "1c0a6d02-42e9-4ac4-afd1-d4a3681ed8a1",
   "metadata": {},
   "source": [
    "# Q.3 '''Create a python program to compute the electricity bill for a household\n",
    "'''The per-unit charges in rupees are as follows: For the first 100 units, the user will be charged Rs. 4.5 per unit, for the next 100 units, the user will be charged Rs. 6 per unit, and for the next 100 units, the user will be charged Rs. 10 per unit, After 300 units and above the user will be charged Rs. 20 per unit.You are required to take the units of electricity consumed in a month from the user as input.Your program must pass this test case: when the unit of electricity consumed by the user in a month is 310, the total electricity bill should be 2250.'''"
   ]
  },
  {
   "cell_type": "code",
   "execution_count": 1,
   "id": "a608d4de-6ff0-463d-83f7-84572b8936f0",
   "metadata": {},
   "outputs": [
    {
     "name": "stdin",
     "output_type": "stream",
     "text": [
      "Enter the units of electricity consumed in a month:  310\n"
     ]
    },
    {
     "name": "stdout",
     "output_type": "stream",
     "text": [
      "Total electricity bill: Rs. 2250.0\n"
     ]
    }
   ],
   "source": [
    "# Constants for per-unit charges\n",
    "FIRST_100_RATE = 4.5\n",
    "NEXT_100_RATE = 6\n",
    "NEXT_100_RATE_2 = 10\n",
    "ABOVE_300_RATE = 20\n",
    "\n",
    "units = int(input(\"Enter the units of electricity consumed in a month: \"))\n",
    "\n",
    "total_bill = 0\n",
    "\n",
    "if units <= 100:\n",
    "    total_bill = units * FIRST_100_RATE\n",
    "elif units <= 200:\n",
    "    total_bill = 100 * FIRST_100_RATE + (units - 100) * NEXT_100_RATE\n",
    "elif units <= 300:\n",
    "    total_bill = 100 * FIRST_100_RATE + 100 * NEXT_100_RATE + (units - 200) * NEXT_100_RATE_2\n",
    "else:\n",
    "    total_bill = 100 * FIRST_100_RATE + 100 * NEXT_100_RATE + 100 * NEXT_100_RATE_2 + (units - 300) * ABOVE_300_RATE\n",
    "\n",
    "print(\"Total electricity bill: Rs.\", total_bill)\n"
   ]
  },
  {
   "cell_type": "markdown",
   "id": "4f23e0a0-97fb-4ae1-93a2-84680562b67a",
   "metadata": {},
   "source": [
    "# Q.4 . Create a list of numbers from 1 to 100. Use for loop and while loop to calculate the cube of each number and if the cube of that number is divisible by 4 or 5 then append that number in a list and print that list"
   ]
  },
  {
   "cell_type": "code",
   "execution_count": 11,
   "id": "389400e6-446d-4b35-adb4-fc103fa6ec66",
   "metadata": {},
   "outputs": [
    {
     "name": "stdout",
     "output_type": "stream",
     "text": [
      "[2, 4, 5, 6, 8, 10, 12, 14, 15, 16, 18, 20, 22, 24, 25, 26, 28, 30, 32, 34, 35, 36, 38, 40, 42, 44, 45, 46, 48, 50, 52, 54, 55, 56, 58, 60, 62, 64, 65, 66, 68, 70, 72, 74, 75, 76, 78, 80, 82, 84, 85, 86, 88, 90, 92, 94, 95, 96, 98, 100]\n"
     ]
    }
   ],
   "source": [
    "# for loop\n",
    "l = list(range(1, 101))\n",
    "\n",
    "l1 = []\n",
    "\n",
    "for i in l :\n",
    "    cube = i ** 3\n",
    "    if cube % 4 == 0 or cube % 5 == 0:\n",
    "        l1.append(i)\n",
    "        \n",
    "print(l1)"
   ]
  },
  {
   "cell_type": "code",
   "execution_count": 14,
   "id": "b9832a6f-685c-4a78-88f8-26cd8270ba4d",
   "metadata": {},
   "outputs": [
    {
     "name": "stdout",
     "output_type": "stream",
     "text": [
      "[2, 4, 5, 6, 8, 10, 12, 14, 15, 16, 18, 20, 22, 24, 25, 26, 28, 30, 32, 34, 35, 36, 38, 40, 42, 44, 45, 46, 48, 50, 52, 54, 55, 56, 58, 60, 62, 64, 65, 66, 68, 70, 72, 74, 75, 76, 78, 80, 82, 84, 85, 86, 88, 90, 92, 94, 95, 96, 98, 100]\n"
     ]
    }
   ],
   "source": [
    "#while loop\n",
    "l2 = list(range(1, 101))\n",
    "\n",
    "l3 = []\n",
    "\n",
    "index = 0\n",
    "while index < len(l2):\n",
    "    i = l2[index]\n",
    "    cube = i ** 3\n",
    "    if cube % 4 == 0 or cube % 5 == 0:\n",
    "        l3.append(i)\n",
    "    index += 1\n",
    "print(l3)\n"
   ]
  },
  {
   "cell_type": "markdown",
   "id": "c0e6f3ea-e948-4c71-8ba1-048d80390682",
   "metadata": {},
   "source": [
    "# Q.5 Write a program to filter count vowels in the below-given string.string = \"I want to become a data scientist"
   ]
  },
  {
   "cell_type": "code",
   "execution_count": null,
   "id": "491bf687-7250-46de-8fec-9200740c82cf",
   "metadata": {},
   "outputs": [],
   "source": []
  }
 ],
 "metadata": {
  "kernelspec": {
   "display_name": "Python 3 (ipykernel)",
   "language": "python",
   "name": "python3"
  },
  "language_info": {
   "codemirror_mode": {
    "name": "ipython",
    "version": 3
   },
   "file_extension": ".py",
   "mimetype": "text/x-python",
   "name": "python",
   "nbconvert_exporter": "python",
   "pygments_lexer": "ipython3",
   "version": "3.10.8"
  }
 },
 "nbformat": 4,
 "nbformat_minor": 5
}
